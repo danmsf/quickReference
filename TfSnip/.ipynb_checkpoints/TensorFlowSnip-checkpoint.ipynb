{
 "cells": [
  {
   "cell_type": "markdown",
   "metadata": {},
   "source": [
    "# TensorFlow Snippets"
   ]
  },
  {
   "cell_type": "markdown",
   "metadata": {},
   "source": [
    "## Session Setup"
   ]
  },
  {
   "cell_type": "markdown",
   "metadata": {},
   "source": [
    "## Variable Creation"
   ]
  },
  {
   "cell_type": "markdown",
   "metadata": {},
   "source": [
    "## TensorBoard"
   ]
  },
  {
   "cell_type": "markdown",
   "metadata": {},
   "source": [
    "## Functions\n",
    "\n",
    "### General\n",
    "\n",
    "* **tf.placeholder(tf.int32, [batch_size, seq_length])** = saves a place for values that havent been called or created yet\n",
    "\n",
    "    *example:*\n",
    "        input_data = tf.placeholder(tf.int32, [batch_size, seq_length])\n",
    "        \n",
    "        \n",
    "* **tf.get_variable** = if variable doesnt exist it initializes it; otherwise it takes the existing version; \n",
    "\n",
    "    *example:*\n",
    "        softmax_w = tf.get_variable(\"softmax_w\", [dim0_size, dim1_size])\n",
    "* **tf.squeeze** = removes dimensions of size 1 from the tensor\n",
    "* **tf.matmul** = matrix multiply\n",
    "\n",
    "### RNNs\n",
    "\n",
    "* **cell.zero_state**  = will initialize the required state class; will return the state with all the values equal to 0.0.; it is agnostic of the type of the cell (LSTM, GRU, RNN) and you can do something like this:\n",
    "\n",
    "        if type == 'GRU':\n",
    "           cell = BasicGRUCell\n",
    "        else:\n",
    "           cell = BasicLSTMCell(state_is_tuple=True)\n",
    "\n",
    "        init_state = cell.zero_state(batch_size)\n",
    "* **cell.LSTMStateTuple** = when you're initializing your state with custom values (passed by the trainer).\n",
    "ref (https://stackoverflow.com/questions/43192809/lstmstatetuple-vs-cell-zero-state-for-rnn-in-tensorflow)"
   ]
  },
  {
   "cell_type": "markdown",
   "metadata": {},
   "source": [
    "## Random\n",
    "\n",
    "* **protocol buffer** = a language agnostic method of serialization; googles is called `protoc`\n",
    "(https://developers.google.com/protocol-buffers/)"
   ]
  },
  {
   "cell_type": "code",
   "execution_count": null,
   "metadata": {},
   "outputs": [],
   "source": [
    "!jupyter nbconvert --to markdown TensorFlow.ipynb"
   ]
  }
 ],
 "metadata": {
  "kernelspec": {
   "display_name": "Python 3",
   "language": "python",
   "name": "python3"
  },
  "language_info": {
   "codemirror_mode": {
    "name": "ipython",
    "version": 3
   },
   "file_extension": ".py",
   "mimetype": "text/x-python",
   "name": "python",
   "nbconvert_exporter": "python",
   "pygments_lexer": "ipython3",
   "version": "3.6.4"
  }
 },
 "nbformat": 4,
 "nbformat_minor": 2
}
