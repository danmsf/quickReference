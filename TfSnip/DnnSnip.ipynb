{
 "cells": [
  {
   "cell_type": "markdown",
   "metadata": {},
   "source": [
    "# Deep Neural Network Snippets and Help"
   ]
  },
  {
   "cell_type": "markdown",
   "metadata": {},
   "source": [
    "## Terminology\n",
    "\n",
    "### Training\n",
    "\n",
    "* **one epoch** = one forward pass and one backward pass of all the training examples\n",
    "* **batch size** = the number of training examples in one forward/backward pass. The higher the batch size, the more memory space you'll need.\n",
    "* **number of iterations** = number of passes, each pass using [batch size] number of examples. To be clear, one pass = one forward pass + one backward pass (we do not count the forward pass and backward pass as two different passes).\n",
    "\n",
    "Example: if you have 1000 training examples, and your batch size is 500, then it will take 2 iterations to complete 1 epoch.\n",
    "\n",
    "* **learning rate** = how much to step in gradient direction\n",
    "* **decay rate** = how much to decrease the learning rate in each iteration\n",
    "\n",
    "* **gradient clipping** = limit size of values in weight matix by maximum value and/or minimum\n",
    "* **batch normalization** = normalizing outputs of each layer by batch values?\n",
    "\n",
    "### Common update rules\n",
    "\n",
    "* **Gradient descent** = vanilla backprop\n",
    "* **Adam** = GD with decay rate and weights"
   ]
  },
  {
   "cell_type": "code",
   "execution_count": null,
   "metadata": {},
   "outputs": [],
   "source": []
  }
 ],
 "metadata": {
  "kernelspec": {
   "display_name": "Python 3",
   "language": "python",
   "name": "python3"
  },
  "language_info": {
   "codemirror_mode": {
    "name": "ipython",
    "version": 3
   },
   "file_extension": ".py",
   "mimetype": "text/x-python",
   "name": "python",
   "nbconvert_exporter": "python",
   "pygments_lexer": "ipython3",
   "version": "3.6.4"
  }
 },
 "nbformat": 4,
 "nbformat_minor": 2
}
