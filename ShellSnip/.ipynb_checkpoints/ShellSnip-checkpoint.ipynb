{
 "cells": [
  {
   "cell_type": "markdown",
   "metadata": {},
   "source": [
    "# Shell Snippets"
   ]
  },
  {
   "cell_type": "markdown",
   "metadata": {},
   "source": [
    "Some usefull things to do with shell "
   ]
  },
  {
   "cell_type": "markdown",
   "metadata": {},
   "source": [
    "## File Management"
   ]
  },
  {
   "cell_type": "markdown",
   "metadata": {},
   "source": [
    "* List content\n",
    "\n",
    "  `ls -lh`\n",
    "* Make Directory\n",
    "\n",
    "  `mkdir dirName`\n",
    "* Copy File\n",
    "    + File   \n",
    "    `Copy-Item \"C:\\Wabash\\Logfiles\\mar1604.log.txt\" -Destination \"C:\\Presentation\"`\n",
    "    + Directory  \n",
    "    `Copy-Item \"C:\\Logfiles\" -Destination \"C:\\Drawings\" -Recurse`\n",
    "\n"
   ]
  }
 ],
 "metadata": {
  "kernelspec": {
   "display_name": "Python 3",
   "language": "python",
   "name": "python3"
  },
  "language_info": {
   "codemirror_mode": {
    "name": "ipython",
    "version": 3
   },
   "file_extension": ".py",
   "mimetype": "text/x-python",
   "name": "python",
   "nbconvert_exporter": "python",
   "pygments_lexer": "ipython3",
   "version": "3.6.4"
  }
 },
 "nbformat": 4,
 "nbformat_minor": 2
}
